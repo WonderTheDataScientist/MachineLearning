{
 "cells": [
  {
   "cell_type": "code",
   "execution_count": 144,
   "id": "379235c0",
   "metadata": {},
   "outputs": [],
   "source": [
    "import pandas as pd\n",
    "import seaborn as sns\n",
    "import matplotlib.pyplot as plt\n",
    "import numpy as np"
   ]
  },
  {
   "cell_type": "markdown",
   "id": "5b3b9f51",
   "metadata": {},
   "source": [
    "## DATA EXPLORATION"
   ]
  },
  {
   "cell_type": "markdown",
   "id": "88aa1471",
   "metadata": {},
   "source": [
    "Igbesa Market Dataset"
   ]
  },
  {
   "cell_type": "code",
   "execution_count": 145,
   "id": "51eb3012",
   "metadata": {},
   "outputs": [
    {
     "data": {
      "text/html": [
       "<div>\n",
       "<style scoped>\n",
       "    .dataframe tbody tr th:only-of-type {\n",
       "        vertical-align: middle;\n",
       "    }\n",
       "\n",
       "    .dataframe tbody tr th {\n",
       "        vertical-align: top;\n",
       "    }\n",
       "\n",
       "    .dataframe thead th {\n",
       "        text-align: right;\n",
       "    }\n",
       "</style>\n",
       "<table border=\"1\" class=\"dataframe\">\n",
       "  <thead>\n",
       "    <tr style=\"text-align: right;\">\n",
       "      <th></th>\n",
       "      <th>Id</th>\n",
       "      <th>Product Name</th>\n",
       "      <th>Price</th>\n",
       "      <th>cost Factor</th>\n",
       "      <th>Solution</th>\n",
       "    </tr>\n",
       "  </thead>\n",
       "  <tbody>\n",
       "    <tr>\n",
       "      <th>0</th>\n",
       "      <td>1</td>\n",
       "      <td>Bag of Rice</td>\n",
       "      <td>36000</td>\n",
       "      <td>Transportaion</td>\n",
       "      <td>Good Road</td>\n",
       "    </tr>\n",
       "    <tr>\n",
       "      <th>1</th>\n",
       "      <td>2</td>\n",
       "      <td>5kg of Semo</td>\n",
       "      <td>3800</td>\n",
       "      <td>Transportaion</td>\n",
       "      <td>Good Road</td>\n",
       "    </tr>\n",
       "    <tr>\n",
       "      <th>2</th>\n",
       "      <td>3</td>\n",
       "      <td>Pack of Maggi</td>\n",
       "      <td>270</td>\n",
       "      <td>Transportaion</td>\n",
       "      <td>Good Road</td>\n",
       "    </tr>\n",
       "    <tr>\n",
       "      <th>3</th>\n",
       "      <td>4</td>\n",
       "      <td>Pack of Noodles</td>\n",
       "      <td>3700</td>\n",
       "      <td>Transportaion</td>\n",
       "      <td>Good Road</td>\n",
       "    </tr>\n",
       "    <tr>\n",
       "      <th>4</th>\n",
       "      <td>5</td>\n",
       "      <td>Pack of Spagetti</td>\n",
       "      <td>9700</td>\n",
       "      <td>Transportaion</td>\n",
       "      <td>Good Road</td>\n",
       "    </tr>\n",
       "  </tbody>\n",
       "</table>\n",
       "</div>"
      ],
      "text/plain": [
       "   Id      Product Name  Price     cost Factor   Solution\n",
       "0   1       Bag of Rice  36000  Transportaion   Good Road\n",
       "1   2       5kg of Semo   3800  Transportaion   Good Road\n",
       "2   3     Pack of Maggi    270  Transportaion   Good Road\n",
       "3   4   Pack of Noodles   3700  Transportaion   Good Road\n",
       "4   5  Pack of Spagetti   9700  Transportaion   Good Road"
      ]
     },
     "execution_count": 145,
     "metadata": {},
     "output_type": "execute_result"
    }
   ],
   "source": [
    "df_ig =  pd.read_excel('priceIgbesa.xlsx')\n",
    "df_ig.head(5)"
   ]
  },
  {
   "cell_type": "markdown",
   "id": "1ccf3e3a",
   "metadata": {},
   "source": [
    "## DATA CLEANING AND PREPARATION"
   ]
  },
  {
   "cell_type": "code",
   "execution_count": 146,
   "id": "057d2bbc",
   "metadata": {},
   "outputs": [
    {
     "data": {
      "text/plain": [
       "Id              0\n",
       "Product Name    0\n",
       "Price           0\n",
       "cost Factor     0\n",
       "Solution        0\n",
       "dtype: int64"
      ]
     },
     "execution_count": 146,
     "metadata": {},
     "output_type": "execute_result"
    }
   ],
   "source": [
    "df_ig.isnull().sum()"
   ]
  },
  {
   "cell_type": "markdown",
   "id": "e4c1c72c",
   "metadata": {},
   "source": [
    "lusada Market Product Price System"
   ]
  },
  {
   "cell_type": "code",
   "execution_count": 147,
   "id": "4ad4ed08",
   "metadata": {},
   "outputs": [
    {
     "data": {
      "text/html": [
       "<div>\n",
       "<style scoped>\n",
       "    .dataframe tbody tr th:only-of-type {\n",
       "        vertical-align: middle;\n",
       "    }\n",
       "\n",
       "    .dataframe tbody tr th {\n",
       "        vertical-align: top;\n",
       "    }\n",
       "\n",
       "    .dataframe thead th {\n",
       "        text-align: right;\n",
       "    }\n",
       "</style>\n",
       "<table border=\"1\" class=\"dataframe\">\n",
       "  <thead>\n",
       "    <tr style=\"text-align: right;\">\n",
       "      <th></th>\n",
       "      <th>Id</th>\n",
       "      <th>Product Name</th>\n",
       "      <th>Price</th>\n",
       "      <th>cost Factor</th>\n",
       "      <th>Solution</th>\n",
       "    </tr>\n",
       "  </thead>\n",
       "  <tbody>\n",
       "    <tr>\n",
       "      <th>0</th>\n",
       "      <td>1</td>\n",
       "      <td>Bag of Rice</td>\n",
       "      <td>36000</td>\n",
       "      <td>Transportaion</td>\n",
       "      <td>Good Road</td>\n",
       "    </tr>\n",
       "    <tr>\n",
       "      <th>1</th>\n",
       "      <td>2</td>\n",
       "      <td>5kg of Semo</td>\n",
       "      <td>3800</td>\n",
       "      <td>Transportaion</td>\n",
       "      <td>Good Road</td>\n",
       "    </tr>\n",
       "    <tr>\n",
       "      <th>2</th>\n",
       "      <td>3</td>\n",
       "      <td>Pack of Maggi</td>\n",
       "      <td>270</td>\n",
       "      <td>Transportaion</td>\n",
       "      <td>Good Road</td>\n",
       "    </tr>\n",
       "    <tr>\n",
       "      <th>3</th>\n",
       "      <td>4</td>\n",
       "      <td>Pack of Noodles</td>\n",
       "      <td>3700</td>\n",
       "      <td>Transportaion</td>\n",
       "      <td>Good Road</td>\n",
       "    </tr>\n",
       "    <tr>\n",
       "      <th>4</th>\n",
       "      <td>5</td>\n",
       "      <td>Pack of Spagetti</td>\n",
       "      <td>9700</td>\n",
       "      <td>Transportaion</td>\n",
       "      <td>Good Road</td>\n",
       "    </tr>\n",
       "  </tbody>\n",
       "</table>\n",
       "</div>"
      ],
      "text/plain": [
       "   Id      Product Name  Price     cost Factor   Solution\n",
       "0   1       Bag of Rice  36000  Transportaion   Good Road\n",
       "1   2       5kg of Semo   3800  Transportaion   Good Road\n",
       "2   3     Pack of Maggi    270  Transportaion   Good Road\n",
       "3   4   Pack of Noodles   3700  Transportaion   Good Road\n",
       "4   5  Pack of Spagetti   9700  Transportaion   Good Road"
      ]
     },
     "execution_count": 147,
     "metadata": {},
     "output_type": "execute_result"
    }
   ],
   "source": [
    "df_ig.rename(columns = {'Product Name':'Product'})\n",
    "# df_ig.drop(['Id'], axis=True, inplace=True)\n",
    "df_ig.head(5)"
   ]
  },
  {
   "cell_type": "code",
   "execution_count": 148,
   "id": "3769d521",
   "metadata": {},
   "outputs": [
    {
     "data": {
      "text/html": [
       "<div>\n",
       "<style scoped>\n",
       "    .dataframe tbody tr th:only-of-type {\n",
       "        vertical-align: middle;\n",
       "    }\n",
       "\n",
       "    .dataframe tbody tr th {\n",
       "        vertical-align: top;\n",
       "    }\n",
       "\n",
       "    .dataframe thead th {\n",
       "        text-align: right;\n",
       "    }\n",
       "</style>\n",
       "<table border=\"1\" class=\"dataframe\">\n",
       "  <thead>\n",
       "    <tr style=\"text-align: right;\">\n",
       "      <th></th>\n",
       "      <th>Id</th>\n",
       "      <th>Product Name</th>\n",
       "      <th>Price</th>\n",
       "      <th>cost Factor</th>\n",
       "      <th>Solution</th>\n",
       "    </tr>\n",
       "  </thead>\n",
       "  <tbody>\n",
       "    <tr>\n",
       "      <th>0</th>\n",
       "      <td>1</td>\n",
       "      <td>Bag of Rice</td>\n",
       "      <td>35000</td>\n",
       "      <td>Transportaion</td>\n",
       "      <td>Good Road</td>\n",
       "    </tr>\n",
       "    <tr>\n",
       "      <th>1</th>\n",
       "      <td>2</td>\n",
       "      <td>5kg of Semo</td>\n",
       "      <td>3600</td>\n",
       "      <td>Transportaion</td>\n",
       "      <td>Good Road</td>\n",
       "    </tr>\n",
       "    <tr>\n",
       "      <th>2</th>\n",
       "      <td>3</td>\n",
       "      <td>Pack of Maggi</td>\n",
       "      <td>250</td>\n",
       "      <td>Transportaion</td>\n",
       "      <td>Good Road</td>\n",
       "    </tr>\n",
       "    <tr>\n",
       "      <th>3</th>\n",
       "      <td>4</td>\n",
       "      <td>Pack of Noodles</td>\n",
       "      <td>3600</td>\n",
       "      <td>Transportaion</td>\n",
       "      <td>Good Road</td>\n",
       "    </tr>\n",
       "    <tr>\n",
       "      <th>4</th>\n",
       "      <td>5</td>\n",
       "      <td>Pack of Spagetti</td>\n",
       "      <td>3700</td>\n",
       "      <td>Transportaion</td>\n",
       "      <td>Good Road</td>\n",
       "    </tr>\n",
       "  </tbody>\n",
       "</table>\n",
       "</div>"
      ],
      "text/plain": [
       "   Id      Product Name  Price     cost Factor   Solution\n",
       "0   1       Bag of Rice  35000  Transportaion   Good Road\n",
       "1   2       5kg of Semo   3600  Transportaion   Good Road\n",
       "2   3     Pack of Maggi    250  Transportaion   Good Road\n",
       "3   4   Pack of Noodles   3600  Transportaion   Good Road\n",
       "4   5  Pack of Spagetti   3700  Transportaion   Good Road"
      ]
     },
     "execution_count": 148,
     "metadata": {},
     "output_type": "execute_result"
    }
   ],
   "source": [
    "df_L =  pd.read_excel('priceL.xlsx')\n",
    "# df_L.drop(['Id'], axis=True, inplace=True)\n",
    "df_L.head(5)"
   ]
  },
  {
   "cell_type": "code",
   "execution_count": 198,
   "id": "8a9d83d3",
   "metadata": {},
   "outputs": [
    {
     "name": "stdout",
     "output_type": "stream",
     "text": [
      "x is for Lusada, while y is for Lusada\n"
     ]
    },
    {
     "data": {
      "text/html": [
       "<div>\n",
       "<style scoped>\n",
       "    .dataframe tbody tr th:only-of-type {\n",
       "        vertical-align: middle;\n",
       "    }\n",
       "\n",
       "    .dataframe tbody tr th {\n",
       "        vertical-align: top;\n",
       "    }\n",
       "\n",
       "    .dataframe thead th {\n",
       "        text-align: right;\n",
       "    }\n",
       "</style>\n",
       "<table border=\"1\" class=\"dataframe\">\n",
       "  <thead>\n",
       "    <tr style=\"text-align: right;\">\n",
       "      <th></th>\n",
       "      <th>Id_x</th>\n",
       "      <th>Product Name</th>\n",
       "      <th>Price_x</th>\n",
       "      <th>cost Factor_x</th>\n",
       "      <th>Solution_x</th>\n",
       "      <th>Id_y</th>\n",
       "      <th>Price_y</th>\n",
       "      <th>cost Factor_y</th>\n",
       "      <th>Solution_y</th>\n",
       "    </tr>\n",
       "  </thead>\n",
       "  <tbody>\n",
       "    <tr>\n",
       "      <th>0</th>\n",
       "      <td>1</td>\n",
       "      <td>Bag of Rice</td>\n",
       "      <td>36000</td>\n",
       "      <td>Transportaion</td>\n",
       "      <td>Good Road</td>\n",
       "      <td>1</td>\n",
       "      <td>35000</td>\n",
       "      <td>Transportaion</td>\n",
       "      <td>Good Road</td>\n",
       "    </tr>\n",
       "    <tr>\n",
       "      <th>1</th>\n",
       "      <td>2</td>\n",
       "      <td>5kg of Semo</td>\n",
       "      <td>3800</td>\n",
       "      <td>Transportaion</td>\n",
       "      <td>Good Road</td>\n",
       "      <td>2</td>\n",
       "      <td>3600</td>\n",
       "      <td>Transportaion</td>\n",
       "      <td>Good Road</td>\n",
       "    </tr>\n",
       "    <tr>\n",
       "      <th>2</th>\n",
       "      <td>3</td>\n",
       "      <td>Pack of Maggi</td>\n",
       "      <td>270</td>\n",
       "      <td>Transportaion</td>\n",
       "      <td>Good Road</td>\n",
       "      <td>3</td>\n",
       "      <td>250</td>\n",
       "      <td>Transportaion</td>\n",
       "      <td>Good Road</td>\n",
       "    </tr>\n",
       "    <tr>\n",
       "      <th>3</th>\n",
       "      <td>4</td>\n",
       "      <td>Pack of Noodles</td>\n",
       "      <td>3700</td>\n",
       "      <td>Transportaion</td>\n",
       "      <td>Good Road</td>\n",
       "      <td>4</td>\n",
       "      <td>3600</td>\n",
       "      <td>Transportaion</td>\n",
       "      <td>Good Road</td>\n",
       "    </tr>\n",
       "    <tr>\n",
       "      <th>4</th>\n",
       "      <td>5</td>\n",
       "      <td>Pack of Spagetti</td>\n",
       "      <td>9700</td>\n",
       "      <td>Transportaion</td>\n",
       "      <td>Good Road</td>\n",
       "      <td>5</td>\n",
       "      <td>3700</td>\n",
       "      <td>Transportaion</td>\n",
       "      <td>Good Road</td>\n",
       "    </tr>\n",
       "    <tr>\n",
       "      <th>5</th>\n",
       "      <td>6</td>\n",
       "      <td>Tin Tomato</td>\n",
       "      <td>750</td>\n",
       "      <td>Transportaion</td>\n",
       "      <td>Good Road</td>\n",
       "      <td>6</td>\n",
       "      <td>750</td>\n",
       "      <td>Transportaion</td>\n",
       "      <td>Good Road</td>\n",
       "    </tr>\n",
       "    <tr>\n",
       "      <th>6</th>\n",
       "      <td>7</td>\n",
       "      <td>Plantaiin</td>\n",
       "      <td>500</td>\n",
       "      <td>Transportaion</td>\n",
       "      <td>Good Road</td>\n",
       "      <td>7</td>\n",
       "      <td>500</td>\n",
       "      <td>Transportaion</td>\n",
       "      <td>Good Road</td>\n",
       "    </tr>\n",
       "    <tr>\n",
       "      <th>7</th>\n",
       "      <td>8</td>\n",
       "      <td>Cassava Flakes Paint</td>\n",
       "      <td>900</td>\n",
       "      <td>Transportaion</td>\n",
       "      <td>Good Road</td>\n",
       "      <td>8</td>\n",
       "      <td>850</td>\n",
       "      <td>Transportaion</td>\n",
       "      <td>Good Road</td>\n",
       "    </tr>\n",
       "    <tr>\n",
       "      <th>8</th>\n",
       "      <td>9</td>\n",
       "      <td>Smoke Fish (per 1)</td>\n",
       "      <td>900</td>\n",
       "      <td>Transportaion</td>\n",
       "      <td>Good Road</td>\n",
       "      <td>9</td>\n",
       "      <td>850</td>\n",
       "      <td>Transportaion</td>\n",
       "      <td>Good Road</td>\n",
       "    </tr>\n",
       "    <tr>\n",
       "      <th>9</th>\n",
       "      <td>10</td>\n",
       "      <td>Turkey</td>\n",
       "      <td>12000</td>\n",
       "      <td>Transportaion</td>\n",
       "      <td>Good Road</td>\n",
       "      <td>10</td>\n",
       "      <td>11500</td>\n",
       "      <td>Transportaion</td>\n",
       "      <td>Good Road</td>\n",
       "    </tr>\n",
       "    <tr>\n",
       "      <th>10</th>\n",
       "      <td>11</td>\n",
       "      <td>Ox Fan</td>\n",
       "      <td>52000</td>\n",
       "      <td>Rise in Dollar</td>\n",
       "      <td>Government Policy</td>\n",
       "      <td>11</td>\n",
       "      <td>52000</td>\n",
       "      <td>Rise in Dollar</td>\n",
       "      <td>Government Policy</td>\n",
       "    </tr>\n",
       "    <tr>\n",
       "      <th>11</th>\n",
       "      <td>12</td>\n",
       "      <td>32 Inches of TV</td>\n",
       "      <td>120000</td>\n",
       "      <td>Rise in Dollar</td>\n",
       "      <td>Government Policy</td>\n",
       "      <td>12</td>\n",
       "      <td>12000</td>\n",
       "      <td>Rise in Dollar</td>\n",
       "      <td>Government Policy</td>\n",
       "    </tr>\n",
       "    <tr>\n",
       "      <th>12</th>\n",
       "      <td>13</td>\n",
       "      <td>DSTV Decorder</td>\n",
       "      <td>24000</td>\n",
       "      <td>Rise in Dollar</td>\n",
       "      <td>Government Policy</td>\n",
       "      <td>13</td>\n",
       "      <td>23500</td>\n",
       "      <td>Rise in Dollar</td>\n",
       "      <td>Government Policy</td>\n",
       "    </tr>\n",
       "    <tr>\n",
       "      <th>13</th>\n",
       "      <td>14</td>\n",
       "      <td>LG Home Thretre</td>\n",
       "      <td>45000</td>\n",
       "      <td>Rise in Dollar</td>\n",
       "      <td>Government Policy</td>\n",
       "      <td>14</td>\n",
       "      <td>47000</td>\n",
       "      <td>Rise in Dollar</td>\n",
       "      <td>Government Policy</td>\n",
       "    </tr>\n",
       "    <tr>\n",
       "      <th>14</th>\n",
       "      <td>15</td>\n",
       "      <td>6 Faces of Extention</td>\n",
       "      <td>2700</td>\n",
       "      <td>Rise in Dollar</td>\n",
       "      <td>Government Policy</td>\n",
       "      <td>15</td>\n",
       "      <td>2300</td>\n",
       "      <td>Rise in Dollar</td>\n",
       "      <td>Government Policy</td>\n",
       "    </tr>\n",
       "  </tbody>\n",
       "</table>\n",
       "</div>"
      ],
      "text/plain": [
       "    Id_x           Product Name  Price_x   cost Factor_x         Solution_x  \\\n",
       "0      1            Bag of Rice    36000  Transportaion           Good Road   \n",
       "1      2            5kg of Semo     3800  Transportaion           Good Road   \n",
       "2      3          Pack of Maggi      270  Transportaion           Good Road   \n",
       "3      4        Pack of Noodles     3700  Transportaion           Good Road   \n",
       "4      5       Pack of Spagetti     9700  Transportaion           Good Road   \n",
       "5      6             Tin Tomato      750  Transportaion           Good Road   \n",
       "6      7              Plantaiin      500  Transportaion           Good Road   \n",
       "7      8   Cassava Flakes Paint      900  Transportaion           Good Road   \n",
       "8      9     Smoke Fish (per 1)      900  Transportaion           Good Road   \n",
       "9     10                 Turkey    12000  Transportaion           Good Road   \n",
       "10    11                 Ox Fan    52000  Rise in Dollar  Government Policy   \n",
       "11    12        32 Inches of TV   120000  Rise in Dollar  Government Policy   \n",
       "12    13          DSTV Decorder    24000  Rise in Dollar  Government Policy   \n",
       "13    14       LG Home Thretre     45000  Rise in Dollar  Government Policy   \n",
       "14    15  6 Faces of Extention      2700  Rise in Dollar  Government Policy   \n",
       "\n",
       "    Id_y  Price_y   cost Factor_y         Solution_y  \n",
       "0      1    35000  Transportaion           Good Road  \n",
       "1      2     3600  Transportaion           Good Road  \n",
       "2      3      250  Transportaion           Good Road  \n",
       "3      4     3600  Transportaion           Good Road  \n",
       "4      5     3700  Transportaion           Good Road  \n",
       "5      6      750  Transportaion           Good Road  \n",
       "6      7      500  Transportaion           Good Road  \n",
       "7      8      850  Transportaion           Good Road  \n",
       "8      9      850  Transportaion           Good Road  \n",
       "9     10    11500  Transportaion           Good Road  \n",
       "10    11    52000  Rise in Dollar  Government Policy  \n",
       "11    12    12000  Rise in Dollar  Government Policy  \n",
       "12    13    23500  Rise in Dollar  Government Policy  \n",
       "13    14    47000  Rise in Dollar  Government Policy  \n",
       "14    15     2300  Rise in Dollar  Government Policy  "
      ]
     },
     "execution_count": 198,
     "metadata": {},
     "output_type": "execute_result"
    }
   ],
   "source": [
    "dfAll = pd.merge(df_ig, df_L, on=['Product Name', 'Product Name'], how=\"outer\")\n",
    "print('x is for Lusada, while y is for Lusada')\n",
    "dfAll.head(15)"
   ]
  },
  {
   "cell_type": "code",
   "execution_count": 254,
   "id": "c8ee2366",
   "metadata": {},
   "outputs": [
    {
     "name": "stdout",
     "output_type": "stream",
     "text": [
      "                  Market Trend Analysis Between Igbesa and Lusada Market                  \n"
     ]
    },
    {
     "data": {
      "image/png": "[encoded data removed]",
      "text/plain": [
       "<Figure size 864x432 with 1 Axes>"
      ]
     },
     "metadata": {
      "needs_background": "light"
     },
     "output_type": "display_data"
    }
   ],
   "source": [
    "print(f\"{'Market Trend Analysis Between Igbesa and Lusada Market' : ^90}\")\n",
    "xl = df_L['Id'].head(15)\n",
    "yl = df_L['Price'].head(15)\n",
    "xlg = df_ig['Id'].head(15)\n",
    "ylg = df_ig['Price'].head(15)\n",
    "plt.figure(figsize=(12, 6))\n",
    "plt.plot(xl, yl, label = \"Lusada\", c=\"green\")\n",
    "plt.plot(xlg, ylg, label = \"Igbesa\", c=\"grey\", ls=\"--\")\n",
    "# for (xi, yi) in zip(xl, yl):\n",
    "#     plt.text(xi, yi, yi, va='bottom', ha='center')\n",
    "for (xi, yi) in zip(xlg, ylg):\n",
    "    plt.text(xi, yi, yi, va='bottom', ha='center')\n",
    "plt.legend()\n",
    "plt.show()"
   ]
  },
  {
   "cell_type": "code",
   "execution_count": 253,
   "id": "d6ebb933",
   "metadata": {},
   "outputs": [
    {
     "name": "stdout",
     "output_type": "stream",
     "text": [
      "                  Market Trend Analysis Between Igbesa and Lusada Market                  \n"
     ]
    },
    {
     "data": {
      "image/png": "[encoded data removed]",
      "text/plain": [
       "<Figure size 864x432 with 1 Axes>"
      ]
     },
     "metadata": {
      "needs_background": "light"
     },
     "output_type": "display_data"
    }
   ],
   "source": [
    "\n",
    "print(f\"{'Market Trend Analysis Between Igbesa and Lusada Market' : ^90}\")\n",
    "xl = df_L['Id'].tail(15)\n",
    "yl = df_L['Price'].tail(15)\n",
    "xlg = df_ig['Id'].tail(15)\n",
    "ylg = df_ig['Price'].tail(15)\n",
    "plt.figure(figsize=(12, 6))\n",
    "plt.plot(xl, yl, label = \"Lusada\", c=\"green\")\n",
    "plt.plot(xlg, ylg, label = \"Igbesa\", c=\"grey\", ls=\"--\")\n",
    "# for (xi, yi) in zip(xl, yl):\n",
    "#     plt.text(xi, yi, yi, va='bottom', ha='center')\n",
    "for (xi, yi) in zip(xl, yl):\n",
    "    plt.text(xi, yi, yi, va='bottom', ha='center')\n",
    "plt.legend()\n",
    "plt.show()"
   ]
  },
  {
   "cell_type": "code",
   "execution_count": 261,
   "id": "d75944a3",
   "metadata": {},
   "outputs": [
    {
     "data": {
      "text/plain": [
       "Text(0.5, 1.0, 'Lusada Market Price Trend Line ')"
      ]
     },
     "execution_count": 261,
     "metadata": {},
     "output_type": "execute_result"
    },
    {
     "data": {
      "image/png": "[encoded data removed]",
      "text/plain": [
       "<Figure size 1440x504 with 2 Axes>"
      ]
     },
     "metadata": {
      "needs_background": "light"
     },
     "output_type": "display_data"
    }
   ],
   "source": [
    "# pro = dfAll['Product Name']\n",
    "\n",
    "# plt.figure(figsize=(8, 5))\n",
    "# plt.plot(dfAll['Price_x'])\n",
    "\n",
    "fig, axes = plt.subplots(1, 2, sharex=True, figsize=(20,7))\n",
    "fig.suptitle('Bigger 1 row x 2 columns axes with no data')\n",
    "sns.lineplot(ax=axes[0], x=dfAll['Id_x'], y=dfAll['Price_x'])\n",
    "for (xi, yi) in zip(xl, yl):\n",
    "    plt.text(xi, yi, yi, va='bottom', ha='center')\n",
    "axes[0].set_title('Igbesa Market Price Trend Line ')\n",
    "sns.lineplot(ax=axes[1], x=dfAll['Id_y'], y=dfAll['Price_y'], color=\"Red\")\n",
    "axes[1].set_title('Lusada Market Price Trend Line ')"
   ]
  },
  {
   "cell_type": "code",
   "execution_count": null,
   "id": "02483587",
   "metadata": {},
   "outputs": [],
   "source": []
  },
  {
   "cell_type": "code",
   "execution_count": 152,
   "id": "781f4a33",
   "metadata": {},
   "outputs": [],
   "source": [
    "# !pip install pygwalker[notebook]"
   ]
  },
  {
   "cell_type": "code",
   "execution_count": 165,
   "id": "4b32c2f4",
   "metadata": {},
   "outputs": [
    {
     "data": {
      "text/html": [],
      "text/plain": [
       "<IPython.core.display.HTML object>"
      ]
     },
     "metadata": {},
     "output_type": "display_data"
    },
    {
     "data": {
      "application/vnd.jupyter.widget-view+json": {
       "model_id": "e027b576a0c64564a591aa3561079cf6",
       "version_major": 2,
       "version_minor": 0
      },
      "text/plain": [
       "Box(children=(HTML(value='<div id=\"ifr-pyg-9\" style=\"height: auto\">\\n    <head>\\n        <meta http-equiv=\"Con…"
      ]
     },
     "metadata": {},
     "output_type": "display_data"
    },
    {
     "data": {
      "text/html": [
       "<html>\n",
       "<style>\n",
       ".tabs{\n",
       "    position:relative;\n",
       "    height:660px;\n",
       "}\n",
       ".tab-pane{\n",
       "    display:inline-block;\n",
       "}\n",
       ".tabs input[type='radio']{\n",
       "    position:absolute;\n",
       "    clip:rect(0,0,0,0)\n",
       "}\n",
       ".tab-item{\n",
       "    display:block;\n",
       "    height:34px;\n",
       "    line-height:34px;\n",
       "    cursor:pointer;\n",
       "    padding:0 10px\n",
       "}\n",
       "\n",
       ".tabs input[type='radio']:checked+.tab-item{\n",
       "    background:#2563eb;\n",
       "    color:#fff\n",
       "}\n",
       "\n",
       ".tab-content{\n",
       "    display: none;\n",
       "    position:absolute;\n",
       "    left:0;\n",
       "    top:56px;\n",
       "    bottom:0;\n",
       "    right:0;\n",
       "}\n",
       "\n",
       ".tabs input[type='radio']:checked+.tab-item+.tab-content{\n",
       "    display: block;\n",
       "}\n",
       "</style>\n",
       "\n",
       "<body>\n",
       "    <div id=\"pygwalker-preview-9\">\n",
       "        <div class=\"tabs\">\n",
       "            \n",
       "        </div>\n",
       "    </div>\n",
       "</body>\n",
       "</html>"
      ],
      "text/plain": [
       "<IPython.core.display.HTML object>"
      ]
     },
     "metadata": {},
     "output_type": "display_data"
    },
    {
     "data": {
      "text/plain": [
       "<pygwalker.api.pygwalker.PygWalker at 0x25a1edde790>"
      ]
     },
     "execution_count": 165,
     "metadata": {},
     "output_type": "execute_result"
    }
   ],
   "source": [
    "import pygwalker as pyg\n",
    "gwalker = pyg.walk(dfAll)\n",
    "gwalker"
   ]
  },
  {
   "cell_type": "code",
   "execution_count": null,
   "id": "0b616b48",
   "metadata": {},
   "outputs": [],
   "source": [
    "### dfAll.head()"
   ]
  },
  {
   "cell_type": "markdown",
   "id": "db54fb6a",
   "metadata": {},
   "source": [
    "### CORRELATION BETWEEN IGBESA MARKET AND LUSADA IN RESPECT TO PRICE"
   ]
  },
  {
   "cell_type": "code",
   "execution_count": 240,
   "id": "18e180f5",
   "metadata": {},
   "outputs": [
    {
     "name": "stdout",
     "output_type": "stream",
     "text": [
      "The Correlation Between Product Sold at \n",
      " Igbesa Market and Lusada Market is 60.41%\n"
     ]
    }
   ],
   "source": [
    "corrPrice = dfAll['Price_x'].corr(dfAll['Price_y'])*100\n",
    "print(f\"The Correlation Between Product Sold at \\n Igbesa Market and Lusada Market is {round(corrPrice, 2)}%\")"
   ]
  },
  {
   "cell_type": "markdown",
   "id": "cdd75f0b",
   "metadata": {},
   "source": [
    "#### COST FACTOR ANALYSIS AFFECTING PRICE IN IGBESA MARKET"
   ]
  },
  {
   "cell_type": "code",
   "execution_count": 256,
   "id": "29631245",
   "metadata": {},
   "outputs": [
    {
     "name": "stdout",
     "output_type": "stream",
     "text": [
      "['Transportaion ' 'Rise in Dollar' 'Fixed Price ']\n"
     ]
    }
   ],
   "source": [
    "print(dfAll['cost Factor_x'].astype(str).unique())"
   ]
  },
  {
   "cell_type": "markdown",
   "id": "bab81f80",
   "metadata": {},
   "source": [
    "####  SOLUTION TO THE PROBLEM"
   ]
  },
  {
   "cell_type": "code",
   "execution_count": 248,
   "id": "52acdb6a",
   "metadata": {},
   "outputs": [
    {
     "name": "stdout",
     "output_type": "stream",
     "text": [
      "['Good Road' 'Government Policy' 'good Road' 'stable']\n"
     ]
    }
   ],
   "source": [
    "print(dfAll['Solution_x'].unique())"
   ]
  },
  {
   "cell_type": "code",
   "execution_count": null,
   "id": "7d7ac8f8",
   "metadata": {},
   "outputs": [],
   "source": []
  }
 ],
 "metadata": {
  "kernelspec": {
   "display_name": "Python 3",
   "language": "python",
   "name": "python3"
  },
  "language_info": {
   "codemirror_mode": {
    "name": "ipython",
    "version": 3
   },
   "file_extension": ".py",
   "mimetype": "text/x-python",
   "name": "python",
   "nbconvert_exporter": "python",
   "pygments_lexer": "ipython3",
   "version": "3.8.8"
  }
 },
 "nbformat": 4,
 "nbformat_minor": 5
}
